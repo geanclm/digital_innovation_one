{
 "cells": [
  {
   "cell_type": "code",
   "execution_count": null,
   "metadata": {},
   "outputs": [],
   "source": [
    "# Python Security\n",
    "# ICMP Ping\n",
    "\n",
    "# https://docs.python.org/pt-br/3/library/os.html\n",
    "# import os\n",
    "\n",
    "# url = 'webgim.manairashopping.com'\n",
    "# url = input('Digite a url para verificar disponibilidade: ')\n",
    "\n",
    "# response = os.system('ping -n 4 {}'.format(url)) \n",
    "# if response == 0:\n",
    "#   print(url, 'is up')\n",
    "# else:\n",
    "#   print(url, 'is down')"
   ]
  },
  {
   "cell_type": "code",
   "execution_count": null,
   "metadata": {},
   "outputs": [],
   "source": []
  }
 ],
 "metadata": {
  "kernelspec": {
   "display_name": "Python 3",
   "language": "python",
   "name": "python3"
  }
 },
 "nbformat": 4,
 "nbformat_minor": 4
}
