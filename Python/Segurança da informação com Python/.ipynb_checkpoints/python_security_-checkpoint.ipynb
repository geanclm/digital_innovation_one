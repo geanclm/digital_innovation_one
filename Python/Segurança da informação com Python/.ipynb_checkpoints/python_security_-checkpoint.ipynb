{
 "cells": [
  {
   "cell_type": "markdown",
   "metadata": {},
   "source": [
    "# Segurança da informação com Python"
   ]
  },
  {
   "cell_type": "code",
   "execution_count": null,
   "metadata": {
    "id": "012bYmbQZsmh"
   },
   "outputs": [],
   "source": [
    "# Python Security\n",
    "# ICMP Ping\n",
    "\n",
    "# https://docs.python.org/pt-br/3/library/os.html\n",
    "# import os\n",
    "\n",
    "# url = 'webgim.manairashopping.com'\n",
    "# url = input('Digite a url para verificar disponibilidade: ')\n",
    "\n",
    "# response = os.system('ping -n 4 {}'.format(url)) \n",
    "# if response == 0:\n",
    "#   print(url, 'is up')\n",
    "# else:\n",
    "#   print(url, 'is down')"
   ]
  },
  {
   "cell_type": "code",
   "execution_count": null,
   "metadata": {
    "id": "bafHWL6uX6gs"
   },
   "outputs": [],
   "source": [
    "# combinação máxima de endereço IPv6\n",
    "def soma(a,b):\n",
    "  return (a**b)\n",
    "soma (2,128)"
   ]
  },
  {
   "cell_type": "code",
   "execution_count": null,
   "metadata": {},
   "outputs": [],
   "source": [
    "import calendar\n",
    "print (calendar.month(2022,4))"
   ]
  },
  {
   "cell_type": "markdown",
   "metadata": {},
   "source": [
    "# Desenvolvimento de ferramentas - Parte 1"
   ]
  },
  {
   "cell_type": "code",
   "execution_count": null,
   "metadata": {},
   "outputs": [],
   "source": [
    "# Biblioteca Random\n",
    "from random import sample"
   ]
  },
  {
   "cell_type": "code",
   "execution_count": null,
   "metadata": {},
   "outputs": [],
   "source": [
    "for i in range(0,1)    \n",
    "    print (f'''{sorted((random.sample(range(1,60),6)))}\\n''')"
   ]
  },
  {
   "cell_type": "markdown",
   "metadata": {},
   "source": [
    "# hash\n",
    "[hash](https://md5decrypt.net/)"
   ]
  },
  {
   "cell_type": "code",
   "execution_count": null,
   "metadata": {},
   "outputs": [],
   "source": [
    "# Integridade"
   ]
  },
  {
   "cell_type": "code",
   "execution_count": null,
   "metadata": {},
   "outputs": [],
   "source": [
    "# Python: lib hashlib"
   ]
  },
  {
   "cell_type": "markdown",
   "metadata": {},
   "source": [
    "# Multithreading"
   ]
  },
  {
   "cell_type": "code",
   "execution_count": null,
   "metadata": {},
   "outputs": [],
   "source": [
    "# Pocesso pode responder várias requisições simultaneamente"
   ]
  },
  {
   "cell_type": "code",
   "execution_count": null,
   "metadata": {},
   "outputs": [],
   "source": [
    "# Python: lib Thread"
   ]
  },
  {
   "cell_type": "code",
   "execution_count": null,
   "metadata": {},
   "outputs": [],
   "source": [
    "# Python: lib ipaddress"
   ]
  }
 ],
 "metadata": {
  "colab": {
   "collapsed_sections": [
    "oo0rIB2_2s3I",
    "uRSUeVigJLX1",
    "Z8n7pKOxOK4O",
    "fqNXgk4kIiMq",
    "zBGui57k8qzl",
    "1fAdJUuFZa-_",
    "xdYLxqWaYueh",
    "-bF94x61YL7k",
    "pjHMPQWa5n6N",
    "GDg0uVi0Q4GM"
   ],
   "name": "geanclm.ipynb",
   "provenance": [],
   "toc_visible": true
  },
  "kernelspec": {
   "display_name": "Python 3",
   "language": "python",
   "name": "python3"
  },
  "language_info": {
   "codemirror_mode": {
    "name": "ipython",
    "version": 3
   },
   "file_extension": ".py",
   "mimetype": "text/x-python",
   "name": "python",
   "nbconvert_exporter": "python",
   "pygments_lexer": "ipython3",
   "version": "3.8.5"
  }
 },
 "nbformat": 4,
 "nbformat_minor": 1
}
