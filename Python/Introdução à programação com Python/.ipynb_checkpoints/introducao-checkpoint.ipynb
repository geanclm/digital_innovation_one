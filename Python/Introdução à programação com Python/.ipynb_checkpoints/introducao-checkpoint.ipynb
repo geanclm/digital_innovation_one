{
 "cells": [
  {
   "cell_type": "markdown",
   "metadata": {},
   "source": [
    "## DIO | Cognizant Cloud Data Engineer\n",
    "#### estudo iniciado em 1 de set. de 2021 17:59h"
   ]
  },
  {
   "cell_type": "markdown",
   "metadata": {},
   "source": [
    "# Introdução à programação com Python"
   ]
  },
  {
   "cell_type": "code",
   "execution_count": 3,
   "metadata": {},
   "outputs": [],
   "source": [
    "# by geanclm"
   ]
  },
  {
   "cell_type": "code",
   "execution_count": 1,
   "metadata": {},
   "outputs": [],
   "source": [
    "# Laço for"
   ]
  },
  {
   "cell_type": "code",
   "execution_count": 3,
   "metadata": {},
   "outputs": [
    {
     "name": "stdout",
     "output_type": "stream",
     "text": [
      "0 1 2 3 4 5 6 7 8 9 10 11 12 13 14 15 16 17 18 19 20 21 22 23 24 25 26 27 28 29 30 31 32 33 34 35 36 37 38 39 40 41 42 43 44 45 46 47 48 49 50 51 52 53 54 55 56 57 58 59 60 "
     ]
    }
   ],
   "source": [
    "# listando números\n",
    "for i in range(61):\n",
    "    print (i, end=' ')\n",
    "    "
   ]
  },
  {
   "cell_type": "code",
   "execution_count": 26,
   "metadata": {},
   "outputs": [
    {
     "name": "stdout",
     "output_type": "stream",
     "text": [
      "Digite um número: 4\n",
      "O número 4 NÃO é primo\n"
     ]
    }
   ],
   "source": [
    "# VERIFICAR NÚMERO PRIMO\n",
    "def primo(n):\n",
    "    r = int(n**(0.5))\n",
    "    if n == 0 or n == 1:\n",
    "        return False\n",
    "    else:\n",
    "        for i in range(2, r+1):\n",
    "            if (n%i == 0):\n",
    "                return False\n",
    "    return True\n",
    "\n",
    "number = int(input('Digite um número inteiro para testar: ')\n",
    "\n",
    "if primo(number):\n",
    "    print(f'''O número {number} é PRIMO''')\n",
    "else:\n",
    "    print(f'''O número {number} NÃO é primo''')"
   ]
  },
  {
   "cell_type": "code",
   "execution_count": 44,
   "metadata": {},
   "outputs": [
    {
     "name": "stdout",
     "output_type": "stream",
     "text": [
      "Digite o número final para gerar a lista de primos: 30\n",
      "2 3 5 7 11 13 17 19 23 29 "
     ]
    }
   ],
   "source": [
    "# listar a sequência de números primos\n",
    "n = int(input('Digite o número final para gerar a lista de primos: '))\n",
    "for i in range(2, n+1):\n",
    "    if i > 1: \n",
    "        for j in range(2, i):\n",
    "            if(i%j==0):\n",
    "                break\n",
    "        else: \n",
    "            print(i, end=' ')"
   ]
  },
  {
   "cell_type": "code",
   "execution_count": 45,
   "metadata": {},
   "outputs": [
    {
     "name": "stdout",
     "output_type": "stream",
     "text": [
      "0 1 2 3 4 5 6 7 8 9 10 "
     ]
    }
   ],
   "source": [
    "# laço while\n",
    "a = 0\n",
    "while a <= 10:\n",
    "    print (a, end=' ')\n",
    "    a += 1"
   ]
  },
  {
   "cell_type": "markdown",
   "metadata": {},
   "source": [
    "<center style=\"font-size:18pt; background-color:#c9d976\">\n",
    "    <br/>\n",
    "        <b style=\"color: #033409\">\n",
    "            Como organizar os dados em uma lista ou tupla e realizar operações com elas\n",
    "        </b>\n",
    "    <br/>&nbsp;\n",
    "</center>"
   ]
  },
  {
   "cell_type": "code",
   "execution_count": 35,
   "metadata": {},
   "outputs": [],
   "source": [
    "# Listas"
   ]
  },
  {
   "cell_type": "code",
   "execution_count": 5,
   "metadata": {},
   "outputs": [],
   "source": [
    "n = [1,3,5,7]\n",
    "a = ['cachorro','gato','elefante','cavalo']"
   ]
  },
  {
   "cell_type": "code",
   "execution_count": 16,
   "metadata": {},
   "outputs": [
    {
     "data": {
      "text/plain": [
       "'gato'"
      ]
     },
     "execution_count": 16,
     "metadata": {},
     "output_type": "execute_result"
    }
   ],
   "source": [
    "a[1]"
   ]
  },
  {
   "cell_type": "code",
   "execution_count": 17,
   "metadata": {},
   "outputs": [
    {
     "name": "stdout",
     "output_type": "stream",
     "text": [
      "cachorro, gato, elefante, cavalo, "
     ]
    }
   ],
   "source": [
    "for i in a:\n",
    "    print (f'{i},', end=' ')"
   ]
  },
  {
   "cell_type": "code",
   "execution_count": 12,
   "metadata": {},
   "outputs": [
    {
     "data": {
      "text/plain": [
       "16"
      ]
     },
     "execution_count": 12,
     "metadata": {},
     "output_type": "execute_result"
    }
   ],
   "source": [
    "sum(lista)"
   ]
  },
  {
   "cell_type": "code",
   "execution_count": 13,
   "metadata": {},
   "outputs": [
    {
     "data": {
      "text/plain": [
       "True"
      ]
     },
     "execution_count": 13,
     "metadata": {},
     "output_type": "execute_result"
    }
   ],
   "source": [
    "'gato' in animal"
   ]
  },
  {
   "cell_type": "code",
   "execution_count": 14,
   "metadata": {},
   "outputs": [
    {
     "data": {
      "text/plain": [
       "False"
      ]
     },
     "execution_count": 14,
     "metadata": {},
     "output_type": "execute_result"
    }
   ],
   "source": [
    "'águia' in animal"
   ]
  },
  {
   "cell_type": "code",
   "execution_count": 19,
   "metadata": {},
   "outputs": [
    {
     "data": {
      "text/plain": [
       "[1, 3, 5, 7]"
      ]
     },
     "execution_count": 19,
     "metadata": {},
     "output_type": "execute_result"
    }
   ],
   "source": [
    "n"
   ]
  },
  {
   "cell_type": "code",
   "execution_count": 18,
   "metadata": {},
   "outputs": [
    {
     "data": {
      "text/plain": [
       "[1, 3, 5, 7, 1, 3, 5, 7, 1, 3, 5, 7]"
      ]
     },
     "execution_count": 18,
     "metadata": {},
     "output_type": "execute_result"
    }
   ],
   "source": [
    "n*3"
   ]
  },
  {
   "cell_type": "code",
   "execution_count": 27,
   "metadata": {},
   "outputs": [],
   "source": [
    "a.append('lobo')"
   ]
  },
  {
   "cell_type": "code",
   "execution_count": 28,
   "metadata": {},
   "outputs": [
    {
     "data": {
      "text/plain": [
       "['cachorro', 'gato', 'elefante', 'cavalo', 'lobo']"
      ]
     },
     "execution_count": 28,
     "metadata": {},
     "output_type": "execute_result"
    }
   ],
   "source": [
    "a"
   ]
  },
  {
   "cell_type": "code",
   "execution_count": 24,
   "metadata": {},
   "outputs": [
    {
     "data": {
      "text/plain": [
       "'cavalo'"
      ]
     },
     "execution_count": 24,
     "metadata": {},
     "output_type": "execute_result"
    }
   ],
   "source": [
    "a.pop()"
   ]
  },
  {
   "cell_type": "code",
   "execution_count": 34,
   "metadata": {},
   "outputs": [
    {
     "data": {
      "text/plain": [
       "['lobo', 'gato', 'elefante', 'cavalo', 'cachorro']"
      ]
     },
     "execution_count": 34,
     "metadata": {},
     "output_type": "execute_result"
    }
   ],
   "source": [
    "sorted(a, reverse=True)"
   ]
  },
  {
   "cell_type": "code",
   "execution_count": 36,
   "metadata": {},
   "outputs": [],
   "source": [
    "# Tuplas"
   ]
  },
  {
   "cell_type": "code",
   "execution_count": 37,
   "metadata": {},
   "outputs": [],
   "source": [
    "tupla = (0,1,2,3,4,5,6,7,8,9)"
   ]
  },
  {
   "cell_type": "code",
   "execution_count": 38,
   "metadata": {},
   "outputs": [
    {
     "data": {
      "text/plain": [
       "(0, 1, 2, 3, 4, 5, 6, 7, 8, 9)"
      ]
     },
     "execution_count": 38,
     "metadata": {},
     "output_type": "execute_result"
    }
   ],
   "source": [
    "tupla"
   ]
  },
  {
   "cell_type": "code",
   "execution_count": 39,
   "metadata": {},
   "outputs": [
    {
     "data": {
      "text/plain": [
       "10"
      ]
     },
     "execution_count": 39,
     "metadata": {},
     "output_type": "execute_result"
    }
   ],
   "source": [
    "len(tupla)"
   ]
  },
  {
   "cell_type": "code",
   "execution_count": 43,
   "metadata": {},
   "outputs": [],
   "source": [
    "tupla_a = tuple(a)"
   ]
  },
  {
   "cell_type": "code",
   "execution_count": 44,
   "metadata": {},
   "outputs": [
    {
     "data": {
      "text/plain": [
       "('cachorro', 'cavalo', 'elefante', 'gato', 'lobo')"
      ]
     },
     "execution_count": 44,
     "metadata": {},
     "output_type": "execute_result"
    }
   ],
   "source": [
    "tupla_a"
   ]
  },
  {
   "cell_type": "code",
   "execution_count": 45,
   "metadata": {},
   "outputs": [
    {
     "data": {
      "text/plain": [
       "['cachorro', 'cavalo', 'elefante', 'gato', 'lobo']"
      ]
     },
     "execution_count": 45,
     "metadata": {},
     "output_type": "execute_result"
    }
   ],
   "source": [
    "a"
   ]
  },
  {
   "cell_type": "code",
   "execution_count": 46,
   "metadata": {},
   "outputs": [],
   "source": [
    "lista_tupla_a = list(tupla_a)"
   ]
  },
  {
   "cell_type": "code",
   "execution_count": 47,
   "metadata": {},
   "outputs": [
    {
     "data": {
      "text/plain": [
       "['cachorro', 'cavalo', 'elefante', 'gato', 'lobo']"
      ]
     },
     "execution_count": 47,
     "metadata": {},
     "output_type": "execute_result"
    }
   ],
   "source": [
    "lista_tupla_a"
   ]
  },
  {
   "cell_type": "markdown",
   "metadata": {},
   "source": [
    "<center style=\"font-size:18pt; background-color:#c9d976\">\n",
    "    <br/>\n",
    "        <b style=\"color: #033409\">\n",
    "            Organizando conjuntos e subconjuntos de elementos em Python\n",
    "        </b>\n",
    "    <br/>&nbsp;\n",
    "</center>"
   ]
  },
  {
   "cell_type": "markdown",
   "metadata": {},
   "source": [
    "# Conjunto (Set)"
   ]
  },
  {
   "cell_type": "code",
   "execution_count": 28,
   "metadata": {},
   "outputs": [],
   "source": [
    "c1 = {'casa', 'bicicleta', 'carro', 'trem', 'avião'}\n",
    "c2 = {'arroz', 'feijão', 'trigo', 'farinha', 'leite', 'casa','sacola'}\n",
    "c3 = {'detergente', 'shampoo', 'sabonete','desodorante', 'escova','sacola'}"
   ]
  },
  {
   "cell_type": "code",
   "execution_count": 11,
   "metadata": {},
   "outputs": [],
   "source": [
    "c1.add('barco')"
   ]
  },
  {
   "cell_type": "code",
   "execution_count": 13,
   "metadata": {},
   "outputs": [
    {
     "data": {
      "text/plain": [
       "{'avião', 'barco', 'bicicleta', 'carro', 'casa', 'trem'}"
      ]
     },
     "execution_count": 13,
     "metadata": {},
     "output_type": "execute_result"
    }
   ],
   "source": [
    "c1"
   ]
  },
  {
   "cell_type": "code",
   "execution_count": 14,
   "metadata": {},
   "outputs": [],
   "source": [
    "c1.discard('avião')"
   ]
  },
  {
   "cell_type": "code",
   "execution_count": 15,
   "metadata": {},
   "outputs": [
    {
     "data": {
      "text/plain": [
       "{'barco', 'bicicleta', 'carro', 'casa', 'trem'}"
      ]
     },
     "execution_count": 15,
     "metadata": {},
     "output_type": "execute_result"
    }
   ],
   "source": [
    "c1"
   ]
  },
  {
   "cell_type": "code",
   "execution_count": 16,
   "metadata": {},
   "outputs": [
    {
     "name": "stdout",
     "output_type": "stream",
     "text": [
      "{'carro', 'shampoo', 'arroz', 'trigo', 'farinha', 'bicicleta', 'feijão', 'barco', 'trem', 'casa', 'desodorante', 'leite', 'escova', 'sacola', 'detergente', 'sabonete'}\n"
     ]
    }
   ],
   "source": [
    "# união dos conjuntos\n",
    "print (c1 | c2 | c3)"
   ]
  },
  {
   "cell_type": "code",
   "execution_count": 25,
   "metadata": {},
   "outputs": [
    {
     "data": {
      "text/plain": [
       "{'arroz',\n",
       " 'casa',\n",
       " 'desodorante',\n",
       " 'detergente',\n",
       " 'escova',\n",
       " 'farinha',\n",
       " 'feijão',\n",
       " 'leite',\n",
       " 'sabonete',\n",
       " 'sacola',\n",
       " 'shampoo',\n",
       " 'trigo'}"
      ]
     },
     "execution_count": 25,
     "metadata": {},
     "output_type": "execute_result"
    }
   ],
   "source": [
    "c2.union(c3)"
   ]
  },
  {
   "cell_type": "code",
   "execution_count": 18,
   "metadata": {},
   "outputs": [
    {
     "name": "stdout",
     "output_type": "stream",
     "text": [
      "{'sacola'}\n"
     ]
    }
   ],
   "source": [
    "# intersecção dos conjuntos c3 e c2\n",
    "print (c3 & c2)"
   ]
  },
  {
   "cell_type": "code",
   "execution_count": 19,
   "metadata": {},
   "outputs": [
    {
     "data": {
      "text/plain": [
       "{'sacola'}"
      ]
     },
     "execution_count": 19,
     "metadata": {},
     "output_type": "execute_result"
    }
   ],
   "source": [
    "c3.intersection(c2)"
   ]
  },
  {
   "cell_type": "code",
   "execution_count": 20,
   "metadata": {},
   "outputs": [
    {
     "data": {
      "text/plain": [
       "({'arroz', 'casa', 'farinha', 'feijão', 'leite', 'sacola', 'trigo'},\n",
       " {'desodorante', 'detergente', 'escova', 'sabonete', 'sacola', 'shampoo'})"
      ]
     },
     "execution_count": 20,
     "metadata": {},
     "output_type": "execute_result"
    }
   ],
   "source": [
    "c2,c3"
   ]
  },
  {
   "cell_type": "code",
   "execution_count": 4,
   "metadata": {},
   "outputs": [
    {
     "name": "stdout",
     "output_type": "stream",
     "text": [
      "{'arroz', 'trigo', 'feijão', 'farinha', 'casa', 'leite'}\n"
     ]
    }
   ],
   "source": [
    "# diferença sem os elementos de c3\n",
    "print (c2 - c3)"
   ]
  },
  {
   "cell_type": "code",
   "execution_count": 21,
   "metadata": {},
   "outputs": [
    {
     "data": {
      "text/plain": [
       "{'arroz', 'casa', 'farinha', 'feijão', 'leite', 'trigo'}"
      ]
     },
     "execution_count": 21,
     "metadata": {},
     "output_type": "execute_result"
    }
   ],
   "source": [
    "c2.difference(c3)"
   ]
  },
  {
   "cell_type": "code",
   "execution_count": 22,
   "metadata": {},
   "outputs": [
    {
     "data": {
      "text/plain": [
       "({'arroz', 'casa', 'farinha', 'feijão', 'leite', 'sacola', 'trigo'},\n",
       " {'desodorante', 'detergente', 'escova', 'sabonete', 'sacola', 'shampoo'})"
      ]
     },
     "execution_count": 22,
     "metadata": {},
     "output_type": "execute_result"
    }
   ],
   "source": [
    "c2, c3"
   ]
  },
  {
   "cell_type": "code",
   "execution_count": 23,
   "metadata": {},
   "outputs": [
    {
     "name": "stdout",
     "output_type": "stream",
     "text": [
      "{'shampoo', 'trigo', 'feijão', 'desodorante', 'sabonete', 'arroz', 'farinha', 'casa', 'leite', 'escova', 'detergente'}\n"
     ]
    }
   ],
   "source": [
    "# A diferença simétrica cria um conjunto contendo todos os dados que não são comuns nas listas consideradas\n",
    "print (c2 ^ c3) # Diferença simétrica"
   ]
  },
  {
   "cell_type": "code",
   "execution_count": 24,
   "metadata": {},
   "outputs": [
    {
     "data": {
      "text/plain": [
       "{'arroz',\n",
       " 'casa',\n",
       " 'desodorante',\n",
       " 'detergente',\n",
       " 'escova',\n",
       " 'farinha',\n",
       " 'feijão',\n",
       " 'leite',\n",
       " 'sabonete',\n",
       " 'shampoo',\n",
       " 'trigo'}"
      ]
     },
     "execution_count": 24,
     "metadata": {},
     "output_type": "execute_result"
    }
   ],
   "source": [
    "c2.symmetric_difference(c3)"
   ]
  },
  {
   "cell_type": "code",
   "execution_count": 32,
   "metadata": {},
   "outputs": [],
   "source": [
    "# PERTINÊNCIA"
   ]
  },
  {
   "cell_type": "code",
   "execution_count": 33,
   "metadata": {},
   "outputs": [],
   "source": [
    "c4 = {1,2,3,4,5}\n",
    "c5 = {0,1,2,3,4,5,6,7,8,9}"
   ]
  },
  {
   "cell_type": "code",
   "execution_count": 29,
   "metadata": {},
   "outputs": [
    {
     "data": {
      "text/plain": [
       "({'avião', 'bicicleta', 'carro', 'casa', 'trem'},\n",
       " {'arroz', 'casa', 'farinha', 'feijão', 'leite', 'sacola', 'trigo'},\n",
       " {'desodorante', 'detergente', 'escova', 'sabonete', 'sacola', 'shampoo'})"
      ]
     },
     "execution_count": 29,
     "metadata": {},
     "output_type": "execute_result"
    }
   ],
   "source": [
    "c1,c2,c3"
   ]
  },
  {
   "cell_type": "code",
   "execution_count": 34,
   "metadata": {},
   "outputs": [
    {
     "data": {
      "text/plain": [
       "True"
      ]
     },
     "execution_count": 34,
     "metadata": {},
     "output_type": "execute_result"
    }
   ],
   "source": [
    "c4.issubset(c5)"
   ]
  },
  {
   "cell_type": "code",
   "execution_count": 35,
   "metadata": {},
   "outputs": [
    {
     "data": {
      "text/plain": [
       "True"
      ]
     },
     "execution_count": 35,
     "metadata": {},
     "output_type": "execute_result"
    }
   ],
   "source": [
    "c5.issuperset(c4)"
   ]
  },
  {
   "cell_type": "code",
   "execution_count": 38,
   "metadata": {},
   "outputs": [],
   "source": [
    "lista = ['item1','item2','item2', 'item3','item4','item2','item1','item2', 'lista5', 'lista6']\n",
    "conjunto = set(lista)"
   ]
  },
  {
   "cell_type": "code",
   "execution_count": 39,
   "metadata": {},
   "outputs": [
    {
     "data": {
      "text/plain": [
       "{'item1', 'item2', 'item3', 'item4', 'lista5', 'lista6'}"
      ]
     },
     "execution_count": 39,
     "metadata": {},
     "output_type": "execute_result"
    }
   ],
   "source": [
    "conjunto"
   ]
  },
  {
   "cell_type": "markdown",
   "metadata": {},
   "source": [
    "<center style=\"font-size:18pt; background-color:#c9d976\">\n",
    "    <br/>\n",
    "        <b style=\"color: #033409\">\n",
    "            Construindo métodos, funções e classes em Python\n",
    "        </b>\n",
    "    <br/>&nbsp;\n",
    "</center>"
   ]
  },
  {
   "cell_type": "code",
   "execution_count": 39,
   "metadata": {},
   "outputs": [
    {
     "data": {
      "text/plain": [
       "120"
      ]
     },
     "execution_count": 39,
     "metadata": {},
     "output_type": "execute_result"
    }
   ],
   "source": [
    "def fatorial(n):\n",
    "        if n == 0:\n",
    "            return 1\n",
    "        else:\n",
    "            return n*fatorial(n-1)\n",
    "fatorial(5)"
   ]
  },
  {
   "cell_type": "code",
   "execution_count": 47,
   "metadata": {},
   "outputs": [
    {
     "data": {
      "text/plain": [
       "6"
      ]
     },
     "execution_count": 47,
     "metadata": {},
     "output_type": "execute_result"
    }
   ],
   "source": [
    "   def soma (*args):\n",
    "        soma = sum(args)    \n",
    "        return soma\n",
    "soma (1,2,3,)"
   ]
  },
  {
   "cell_type": "code",
   "execution_count": 56,
   "metadata": {},
   "outputs": [],
   "source": [
    "class Calculadora:\n",
    "    def __init__(self, a, b):\n",
    "        self.a = a\n",
    "        self.b = b\n",
    "        \n",
    "    def soma (self):\n",
    "        return (self.a + self.b)\n",
    "    \n",
    "    def subtrai (self):\n",
    "        return (self.a - self.b)\n",
    "    \n",
    "    def multiplica (self):\n",
    "        return (self.a * self.b)\n",
    "\n",
    "    def dividi (self):\n",
    "        return (self.a / self.b)"
   ]
  },
  {
   "cell_type": "code",
   "execution_count": 52,
   "metadata": {},
   "outputs": [],
   "source": [
    "calculadora = Calculadora(10, 2)"
   ]
  },
  {
   "cell_type": "code",
   "execution_count": 53,
   "metadata": {},
   "outputs": [
    {
     "data": {
      "text/plain": [
       "12"
      ]
     },
     "execution_count": 53,
     "metadata": {},
     "output_type": "execute_result"
    }
   ],
   "source": [
    "calculadora.soma()"
   ]
  },
  {
   "cell_type": "code",
   "execution_count": 54,
   "metadata": {},
   "outputs": [
    {
     "data": {
      "text/plain": [
       "8"
      ]
     },
     "execution_count": 54,
     "metadata": {},
     "output_type": "execute_result"
    }
   ],
   "source": [
    "calculadora.subtrai()"
   ]
  },
  {
   "cell_type": "code",
   "execution_count": 111,
   "metadata": {},
   "outputs": [],
   "source": [
    "# exemplo de classe com função (retorno de valor)\n",
    "class Calculadora2:\n",
    "#     def __init__(self):\n",
    "#         pass\n",
    "    def soma (self, a, b):\n",
    "        return (a + b)\n",
    "\n",
    "    def subtrai (self, a, b):\n",
    "        return (a - b)\n",
    "    \n",
    "    def multiplica (self, a, b):\n",
    "        return (a * b)\n",
    "\n",
    "    def dividi (self, a, b):\n",
    "        return (a / b)"
   ]
  },
  {
   "cell_type": "code",
   "execution_count": 112,
   "metadata": {},
   "outputs": [],
   "source": [
    "calculadora = Calculadora2()"
   ]
  },
  {
   "cell_type": "code",
   "execution_count": 67,
   "metadata": {},
   "outputs": [
    {
     "data": {
      "text/plain": [
       "5"
      ]
     },
     "execution_count": 67,
     "metadata": {},
     "output_type": "execute_result"
    }
   ],
   "source": [
    "calculadora.soma(2,3)"
   ]
  },
  {
   "cell_type": "code",
   "execution_count": 68,
   "metadata": {},
   "outputs": [
    {
     "data": {
      "text/plain": [
       "27"
      ]
     },
     "execution_count": 68,
     "metadata": {},
     "output_type": "execute_result"
    }
   ],
   "source": [
    "calculadora.multiplica(3,9)"
   ]
  },
  {
   "cell_type": "code",
   "execution_count": 113,
   "metadata": {},
   "outputs": [],
   "source": [
    "# exemplo de classe com método (sem retorno de valor)\n",
    "class Televisao:\n",
    "    def __init__(self):\n",
    "        self.ligada = False\n",
    "        self.canal = 5\n",
    "        \n",
    "    def power(self):\n",
    "        if self.ligada:\n",
    "            self.ligada = False\n",
    "        else:\n",
    "            self.ligada = True\n",
    "            \n",
    "    def aumentaCanal(self):\n",
    "        if self.ligada:\n",
    "            self.canal += 1\n",
    "        \n",
    "    def diminuiCanal(self):\n",
    "        if self.ligada:\n",
    "            self.canal -= 1"
   ]
  },
  {
   "cell_type": "code",
   "execution_count": null,
   "metadata": {},
   "outputs": [],
   "source": [
    "# instanciando a classe\n",
    "televisao = Televisao()"
   ]
  },
  {
   "cell_type": "code",
   "execution_count": 100,
   "metadata": {},
   "outputs": [
    {
     "data": {
      "text/plain": [
       "False"
      ]
     },
     "execution_count": 100,
     "metadata": {},
     "output_type": "execute_result"
    }
   ],
   "source": [
    "televisao.ligada"
   ]
  },
  {
   "cell_type": "code",
   "execution_count": 106,
   "metadata": {},
   "outputs": [],
   "source": [
    "televisao.power()"
   ]
  },
  {
   "cell_type": "code",
   "execution_count": 107,
   "metadata": {},
   "outputs": [
    {
     "data": {
      "text/plain": [
       "True"
      ]
     },
     "execution_count": 107,
     "metadata": {},
     "output_type": "execute_result"
    }
   ],
   "source": [
    "televisao.ligada"
   ]
  },
  {
   "cell_type": "code",
   "execution_count": 108,
   "metadata": {},
   "outputs": [
    {
     "data": {
      "text/plain": [
       "5"
      ]
     },
     "execution_count": 108,
     "metadata": {},
     "output_type": "execute_result"
    }
   ],
   "source": [
    "televisao.canal"
   ]
  },
  {
   "cell_type": "code",
   "execution_count": 109,
   "metadata": {},
   "outputs": [
    {
     "data": {
      "text/plain": [
       "6"
      ]
     },
     "execution_count": 109,
     "metadata": {},
     "output_type": "execute_result"
    }
   ],
   "source": [
    "televisao.aumentaCanal()\n",
    "televisao.canal"
   ]
  },
  {
   "cell_type": "code",
   "execution_count": 103,
   "metadata": {},
   "outputs": [
    {
     "data": {
      "text/plain": [
       "5"
      ]
     },
     "execution_count": 103,
     "metadata": {},
     "output_type": "execute_result"
    }
   ],
   "source": [
    "televisao.diminuiCanal()\n",
    "\n",
    "televisao.canal"
   ]
  },
  {
   "cell_type": "markdown",
   "metadata": {},
   "source": [
    "<center style=\"font-size:18pt; background-color:#c9d976\">\n",
    "    <br/>\n",
    "        <b style=\"color: #033409\">\n",
    "            Lidando com módulos, importação de classes, métodos e construção de funções anônimas (lambda)\n",
    "        </b>\n",
    "    <br/>&nbsp;\n",
    "</center>"
   ]
  },
  {
   "cell_type": "code",
   "execution_count": 110,
   "metadata": {},
   "outputs": [],
   "source": [
    "# Lidando com módulos, importação de classes, métodos e construção de funções anônimas (lambda)"
   ]
  },
  {
   "cell_type": "code",
   "execution_count": null,
   "metadata": {},
   "outputs": [],
   "source": []
  },
  {
   "cell_type": "markdown",
   "metadata": {},
   "source": [
    "<center style=\"font-size:18pt; background-color:#c9d976\">\n",
    "    <br/>\n",
    "        <b style=\"color: #033409\">\n",
    "            Gere, copie, mova, escreva e leia informações de arquivos externos\n",
    "        </b>\n",
    "    <br/>&nbsp;\n",
    "</center>"
   ]
  },
  {
   "cell_type": "markdown",
   "metadata": {},
   "source": [
    "# open"
   ]
  },
  {
   "cell_type": "code",
   "execution_count": 76,
   "metadata": {},
   "outputs": [],
   "source": [
    "# by geanclm in 04/05/2022 23:05h\n",
    "import shutil\n",
    "path = r'C:\\Users\\geanc\\Downloads\\DATA SCIENCE\\GitHub\\digital_innovation_one\\Python\\Introdução à programação com Python\\dataset\\dados.txt'\n",
    "path2 = r'C:\\Users\\geanc\\Downloads\\DATA SCIENCE\\GitHub\\digital_innovation_one\\Python\\Introdução à programação com Python'\n",
    "\n",
    "def escreveArquivo(texto):\n",
    "    # Criar arquivo\n",
    "    arquivo = open(path,'w')\n",
    "    arquivo.write(texto)\n",
    "    arquivo.close()\n",
    "\n",
    "def atualizaArquivo(texto):\n",
    "    # Adiconar\n",
    "    arquivo = open(path,'a', newline='\\n')\n",
    "    arquivo.write(f'\\n{texto}')\n",
    "    arquivo.close()\n",
    "\n",
    "def leituraArquivo(arquivo):\n",
    "    # ler arquivo\n",
    "    arquivo = open(path, \"r\")\n",
    "    dados = arquivo.read()\n",
    "    print (dados)\n",
    "    arquivo.close()\n",
    "    \n",
    "def mNotas(arquivos): # função para calcular a média\n",
    "    arquivo = open(path, \"r\")\n",
    "    dados = arquivo.read()\n",
    "    alunos = dados.split('\\n')\n",
    "    for i in alunos:\n",
    "        listaAlunos = i.split(',')        \n",
    "#         solução DIO\n",
    "#         listaAlunos.pop(0)\n",
    "#         média = lambda notas: sum([float(i) for i in notas])/4\n",
    "#         print (média(listaAlunos))\n",
    "      \n",
    "#         solução geanclm\n",
    "        print (f'Aluno: {listaAlunos[0]}\\t| Notas: {listaAlunos[1:]}\\t| Média final: {(((float(listaAlunos[1]))+(float(listaAlunos[2]))+(float(listaAlunos[3]))+(float(listaAlunos[4])))/4):.2f}')\n",
    "\n",
    "def copiaArquivo(arquivo):\n",
    "#     import shutil\n",
    "    shutil.copy(arquivo, path2)  \n",
    "    \n",
    "def moveArquivo(arquivo):\n",
    "    shutil.move(arquivo, path2)\n",
    "    \n",
    "    \n",
    "if __name__ == '__main__':\n",
    "#     aluno = 'Gean, 9 , 8, 8, 7'\n",
    "#     atualizaArquivo(aluno)\n",
    "#     leituraArquivo('teste.txt')   \n",
    "#     mNotas('teste.txt')\n",
    "#     copiaArquivo(path)\n",
    "    moveArquivo(path)    "
   ]
  },
  {
   "cell_type": "markdown",
   "metadata": {},
   "source": [
    "# with open"
   ]
  },
  {
   "cell_type": "code",
   "execution_count": 3,
   "metadata": {},
   "outputs": [
    {
     "name": "stdout",
     "output_type": "stream",
     "text": [
      "\n",
      "escrevendo uma nova linha no arquivo\n",
      "\n",
      "Gean Carlos\n"
     ]
    }
   ],
   "source": [
    "path = r'C:\\Users\\geanc\\Downloads\\DATA SCIENCE\\GitHub\\digital_innovation_one\\Python\\Introdução à programação com Python\\dataset\\dados.txt'\n",
    "\n",
    "def escreveArquivo(texto):\n",
    "    with open(path, \"w\") as arquivo:\n",
    "        arquivo.write(texto)\n",
    "\n",
    "def atualizaArquivo(texto):\n",
    "    with open(path, \"a\", newline='\\n') as arquivo:\n",
    "        arquivo.write(f'\\n{texto}')\n",
    "\n",
    "def leituraArquivo():\n",
    "    with open(path, \"r\") as arquivo:\n",
    "        dados = arquivo.read()\n",
    "        print (dados)\n",
    "\n",
    "def zerarArquivo():\n",
    "    with open(path, \"w\") as arquivo:\n",
    "        arquivo.write('')\n",
    "\n",
    "if __name__ == '__main__':\n",
    "#     atualizaArquivo('escrevendo uma nova linha no arquivo')\n",
    "    aluno = 'Gean, 10, 9 , 8, 9'\n",
    "    atualizaArquivo(aluno)\n",
    "    leituraArquivo()"
   ]
  },
  {
   "cell_type": "markdown",
   "metadata": {},
   "source": [
    "<center style=\"font-size:18pt; background-color:#c9d976\">\n",
    "    <br/>\n",
    "        <b style=\"color: #033409\">\n",
    "            Utilizar informações de data, horário e relacionar datas diferentes\n",
    "        </b>\n",
    "    <br/>&nbsp;\n",
    "</center>"
   ]
  },
  {
   "cell_type": "markdown",
   "metadata": {},
   "source": [
    "[strftime() and strptime() Format Codes](https://docs.python.org/3/library/datetime.html#strftime-and-strptime-format-codes)"
   ]
  },
  {
   "cell_type": "code",
   "execution_count": 48,
   "metadata": {},
   "outputs": [
    {
     "name": "stdout",
     "output_type": "stream",
     "text": [
      "05/05/2022 21:13:02\n",
      "Thu May  5 21:13:02 2022\n",
      "2022-05-05\n",
      "3\n",
      "Quinta-feira\n",
      "2018-08-23 20:30:20\n",
      "Thu Aug 23 20:30:20 2018\n",
      "<class 'datetime.datetime'>\n",
      "2000-01-01 12:32:33\n",
      "1999-01-01 10:17:33\n"
     ]
    }
   ],
   "source": [
    "from datetime import date, time, datetime, timedelta\n",
    "\n",
    "# date\n",
    "def trabalhando_com_date():\n",
    "    hoje = date.today().strftime('%A %B %d/%m/%Y')\n",
    "    print(type(date.today()))\n",
    "    print(hoje)\n",
    "    print(type(hoje))\n",
    "    \n",
    "def trabalhando_com_time():\n",
    "    hora = time(hour=15, minute=18, second=30).strftime('%H:%M:%S')\n",
    "    print(type(hora))\n",
    "    print(hora)    \n",
    "    \n",
    "def trabalhando_com_datetime():\n",
    "    print(datetime.now().strftime('%d/%m/%Y %H:%M:%S'))\n",
    "    print(datetime.now().strftime('%c'))\n",
    "    print(datetime.now().date())\n",
    "    print(datetime.now().weekday())\n",
    "    tupla = ('Segunda-feira','Terça-feira','Quarta-feira','Quinta-feira','Sexta-feira','Sábado','Domingo')\n",
    "    print(tupla[datetime.now().weekday()])\n",
    "    \n",
    "    data_criada = datetime(2018, 8, 23, 20, 30, 20)\n",
    "    print(data_criada)\n",
    "    print(data_criada.strftime('%c'))\n",
    "    \n",
    "    data_string = '01/01/2000 12:32:33'\n",
    "    data_covertida = datetime.strptime(data_string, '%d/%m/%Y %H:%M:%S')\n",
    "    print(type(data_covertida))\n",
    "    print(data_covertida)\n",
    "    \n",
    "    nova_data = data_covertida - timedelta(days=365, hours=2, minutes=15)\n",
    "    print(nova_data)\n",
    "    \n",
    "if __name__ == '__main__':\n",
    "#     trabalhando_com_date()\n",
    "#     trabalhando_com_time()\n",
    "    trabalhando_com_datetime()"
   ]
  },
  {
   "cell_type": "markdown",
   "metadata": {},
   "source": [
    "<center style=\"font-size:18pt; background-color:#c9d976\">\n",
    "    <br/>\n",
    "        <b style=\"color: #033409\">\n",
    "            Exceções customizadas com try, except, else e finally\n",
    "        </b>\n",
    "    <br/>&nbsp;\n",
    "</center>"
   ]
  },
  {
   "cell_type": "markdown",
   "metadata": {},
   "source": [
    "[Exception hierarchy](https://docs.python.org/3/library/exceptions.html#exception-hierarchy)"
   ]
  },
  {
   "cell_type": "code",
   "execution_count": 27,
   "metadata": {},
   "outputs": [
    {
     "name": "stdout",
     "output_type": "stream",
     "text": [
      "\n",
      "escrevendo uma nova linha no arquivo\n",
      "\n",
      "Gean Carlos\n",
      "Não ocorreu nenhum erro! :-)\n",
      "--------------------------\n",
      "SEMPRE EXECUTAR ESSE TEXTO\n",
      "--------------------------\n"
     ]
    }
   ],
   "source": [
    "def leituraArquivo():\n",
    "    # ler arquivo\n",
    "    path = r'C:\\Users\\geanc\\Downloads\\DATA SCIENCE\\GitHub\\digital_innovation_one\\Python\\Introdução à programação com Python\\dataset\\dados.txt'\n",
    "    arquivo = open(path, \"r\")\n",
    "    dados = arquivo.read()\n",
    "    print (dados)\n",
    "    arquivo.close()\n",
    "\n",
    "lista = [1,2]\n",
    "\n",
    "try:\n",
    "    texto = leituraArquivo()\n",
    "    resultado = 10 / 1\n",
    "    n = lista[1]\n",
    "    a = 1\n",
    "    x = a\n",
    "except ZeroDivisionError:\n",
    "    print ('não é possível esse cálculo')\n",
    "except IndexError:\n",
    "    print('índice ínválido na lista')\n",
    "# except NameError:\n",
    "#     print('variável não definida')\n",
    "except BaseException as ex:\n",
    "    print(f'Erro desconhecido: {ex}')\n",
    "else:\n",
    "    print ('Não ocorreu nenhum erro! :-)')\n",
    "finally:\n",
    "    texto = 'SEMPRE EXECUTAR ESSE TEXTO'\n",
    "    print('-'*len(texto))\n",
    "    print(texto)\n",
    "    print('-'*len(texto))"
   ]
  },
  {
   "cell_type": "code",
   "execution_count": 52,
   "metadata": {},
   "outputs": [
    {
     "name": "stdout",
     "output_type": "stream",
     "text": [
      "digite a nota: -1\n",
      "A nota informada não pode ser menor que 0\n",
      "-------------------------------------\n",
      "digite a nota: 10\n",
      "10\n",
      "-------------------------------------\n"
     ]
    }
   ],
   "source": [
    "# estrutura obrigatória para criar uma classe de exception personalizada\n",
    "class Error (Exception):\n",
    "    pass\n",
    "class InputError (Error):\n",
    "    def __init__(self, message):\n",
    "        self.message = message\n",
    "# - - -        \n",
    "\n",
    "while True:\n",
    "    try: \n",
    "        n = int(input('digite a nota: '))\n",
    "        if n > 10:\n",
    "            # para forçar a exception e personalizar a mensagem\n",
    "            raise InputError('A nota informada não pode ser maior que 10')\n",
    "        elif n < 0:\n",
    "            # para forçar a exception e personalizar a mensagem\n",
    "            raise InputError('A nota informada não pode ser menor que 0')\n",
    "    except ValueError:\n",
    "        print ('O campo aceita somente número inteiro')\n",
    "    except InputError as ex:\n",
    "        print(ex)\n",
    "    else:\n",
    "        print (n)\n",
    "        break\n",
    "    finally:\n",
    "        print('-'*37)"
   ]
  },
  {
   "cell_type": "markdown",
   "metadata": {},
   "source": [
    "<center style=\"font-size:18pt; background-color:#c9d976\">\n",
    "    <br/>\n",
    "        <b style=\"color: #033409\">\n",
    "            Instalar e utilizar pacotes em Python e realizar requisição com requests\n",
    "        </b>\n",
    "    <br/>&nbsp;\n",
    "</center>"
   ]
  },
  {
   "cell_type": "code",
   "execution_count": 56,
   "metadata": {},
   "outputs": [
    {
     "name": "stdout",
     "output_type": "stream",
     "text": [
      "pip 20.2.4 from C:\\Users\\geanc\\anaconda3\\lib\\site-packages\\pip (python 3.8)\n",
      "\n"
     ]
    }
   ],
   "source": [
    "!pip --version"
   ]
  },
  {
   "cell_type": "code",
   "execution_count": 57,
   "metadata": {},
   "outputs": [
    {
     "name": "stdout",
     "output_type": "stream",
     "text": [
      "\n",
      "Usage:   \n",
      "  pip <command> [options]\n",
      "\n",
      "Commands:\n",
      "  install                     Install packages.\n",
      "  download                    Download packages.\n",
      "  uninstall                   Uninstall packages.\n",
      "  freeze                      Output installed packages in requirements format.\n",
      "  list                        List installed packages.\n",
      "  show                        Show information about installed packages.\n",
      "  check                       Verify installed packages have compatible dependencies.\n",
      "  config                      Manage local and global configuration.\n",
      "  search                      Search PyPI for packages.\n",
      "  cache                       Inspect and manage pip's wheel cache.\n",
      "  wheel                       Build wheels from your requirements.\n",
      "  hash                        Compute hashes of package archives.\n",
      "  completion                  A helper command used for command completion.\n",
      "  debug                       Show information useful for debugging.\n",
      "  help                        Show help for commands.\n",
      "\n",
      "General Options:\n",
      "  -h, --help                  Show help.\n",
      "  --isolated                  Run pip in an isolated mode, ignoring\n",
      "                              environment variables and user configuration.\n",
      "  -v, --verbose               Give more output. Option is additive, and can be\n",
      "                              used up to 3 times.\n",
      "  -V, --version               Show version and exit.\n",
      "  -q, --quiet                 Give less output. Option is additive, and can be\n",
      "                              used up to 3 times (corresponding to WARNING,\n",
      "                              ERROR, and CRITICAL logging levels).\n",
      "  --log <path>                Path to a verbose appending log.\n",
      "  --no-input                  Disable prompting for input.\n",
      "  --proxy <proxy>             Specify a proxy in the form\n",
      "                              [user:passwd@]proxy.server:port.\n",
      "  --retries <retries>         Maximum number of retries each connection should\n",
      "                              attempt (default 5 times).\n",
      "  --timeout <sec>             Set the socket timeout (default 15 seconds).\n",
      "  --exists-action <action>    Default action when a path already exists:\n",
      "                              (s)witch, (i)gnore, (w)ipe, (b)ackup, (a)bort.\n",
      "  --trusted-host <hostname>   Mark this host or host:port pair as trusted,\n",
      "                              even though it does not have valid or any HTTPS.\n",
      "  --cert <path>               Path to alternate CA bundle.\n",
      "  --client-cert <path>        Path to SSL client certificate, a single file\n",
      "                              containing the private key and the certificate\n",
      "                              in PEM format.\n",
      "  --cache-dir <dir>           Store the cache data in <dir>.\n",
      "  --no-cache-dir              Disable the cache.\n",
      "  --disable-pip-version-check\n",
      "                              Don't periodically check PyPI to determine\n",
      "                              whether a new version of pip is available for\n",
      "                              download. Implied with --no-index.\n",
      "  --no-color                  Suppress colored output\n",
      "  --no-python-version-warning\n",
      "                              Silence deprecation warnings for upcoming\n",
      "                              unsupported Pythons.\n",
      "  --use-feature <feature>     Enable new functionality, that may be backward\n",
      "                              incompatible.\n",
      "  --use-deprecated <feature>  Enable deprecated functionality, that will be\n",
      "                              removed in the future.\n"
     ]
    }
   ],
   "source": [
    "!pip --help"
   ]
  },
  {
   "cell_type": "markdown",
   "metadata": {},
   "source": [
    "# Requests: HTTP for Humans\n",
    "\n",
    "[Requests: HTTP for Humans](https://docs.python-requests.org/en/latest/)"
   ]
  },
  {
   "cell_type": "code",
   "execution_count": 63,
   "metadata": {
    "scrolled": false
   },
   "outputs": [],
   "source": [
    "# !pip freeze"
   ]
  },
  {
   "cell_type": "code",
   "execution_count": 59,
   "metadata": {},
   "outputs": [
    {
     "name": "stdout",
     "output_type": "stream",
     "text": [
      "Requirement already satisfied: requests in c:\\users\\geanc\\anaconda3\\lib\\site-packages (2.27.1)\n",
      "Requirement already satisfied: urllib3<1.27,>=1.21.1 in c:\\users\\geanc\\anaconda3\\lib\\site-packages (from requests) (1.26.8)\n",
      "Requirement already satisfied: charset-normalizer~=2.0.0; python_version >= \"3\" in c:\\users\\geanc\\anaconda3\\lib\\site-packages (from requests) (2.0.7)\n",
      "Requirement already satisfied: idna<4,>=2.5; python_version >= \"3\" in c:\\users\\geanc\\anaconda3\\lib\\site-packages (from requests) (2.10)\n",
      "Requirement already satisfied: certifi>=2017.4.17 in c:\\users\\geanc\\anaconda3\\lib\\site-packages (from requests) (2021.10.8)\n"
     ]
    }
   ],
   "source": [
    "!pip install requests"
   ]
  },
  {
   "cell_type": "code",
   "execution_count": 138,
   "metadata": {},
   "outputs": [],
   "source": [
    "import requests\n",
    "from bs4 import BeautifulSoup"
   ]
  },
  {
   "cell_type": "markdown",
   "metadata": {},
   "source": [
    "# Dataset\n",
    "[viacep](https://viacep.com.br/ws/01001000/json)"
   ]
  },
  {
   "cell_type": "code",
   "execution_count": 84,
   "metadata": {},
   "outputs": [],
   "source": [
    "cep = '58102835'"
   ]
  },
  {
   "cell_type": "code",
   "execution_count": 85,
   "metadata": {},
   "outputs": [],
   "source": [
    "req = requests.get(f'https://viacep.com.br/ws/{cep}/json')"
   ]
  },
  {
   "cell_type": "code",
   "execution_count": 86,
   "metadata": {},
   "outputs": [
    {
     "data": {
      "text/plain": [
       "<Response [200]>"
      ]
     },
     "execution_count": 86,
     "metadata": {},
     "output_type": "execute_result"
    }
   ],
   "source": [
    "req"
   ]
  },
  {
   "cell_type": "code",
   "execution_count": 107,
   "metadata": {},
   "outputs": [
    {
     "data": {
      "text/plain": [
       "200"
      ]
     },
     "execution_count": 107,
     "metadata": {},
     "output_type": "execute_result"
    }
   ],
   "source": [
    "req.status_code"
   ]
  },
  {
   "cell_type": "markdown",
   "metadata": {},
   "source": [
    "# Códigos de status de respostas HTTP\n",
    "[respostas HTTP](https://developer.mozilla.org/pt-BR/docs/Web/HTTP/Status)"
   ]
  },
  {
   "cell_type": "code",
   "execution_count": 87,
   "metadata": {},
   "outputs": [
    {
     "name": "stdout",
     "output_type": "stream",
     "text": [
      "{\n",
      "  \"cep\": \"58102-835\",\n",
      "  \"logradouro\": \"Avenida Governador Flávio Ribeiro Coutinho\",\n",
      "  \"complemento\": \"\",\n",
      "  \"bairro\": \"Parque Verde\",\n",
      "  \"localidade\": \"Cabedelo\",\n",
      "  \"uf\": \"PB\",\n",
      "  \"ibge\": \"2503209\",\n",
      "  \"gia\": \"\",\n",
      "  \"ddd\": \"83\",\n",
      "  \"siafi\": \"1965\"\n",
      "}\n"
     ]
    }
   ],
   "source": [
    "print(req.text)"
   ]
  },
  {
   "cell_type": "code",
   "execution_count": 73,
   "metadata": {},
   "outputs": [
    {
     "name": "stdout",
     "output_type": "stream",
     "text": [
      "<class 'requests.models.Response'>\n"
     ]
    }
   ],
   "source": [
    "print(type(req))"
   ]
  },
  {
   "cell_type": "code",
   "execution_count": 74,
   "metadata": {},
   "outputs": [
    {
     "name": "stdout",
     "output_type": "stream",
     "text": [
      "<class 'str'>\n"
     ]
    }
   ],
   "source": [
    "print(type(req.text))"
   ]
  },
  {
   "cell_type": "code",
   "execution_count": 99,
   "metadata": {},
   "outputs": [
    {
     "data": {
      "text/plain": [
       "{'cep': '58102-835',\n",
       " 'logradouro': 'Avenida Governador Flávio Ribeiro Coutinho',\n",
       " 'complemento': '',\n",
       " 'bairro': 'Parque Verde',\n",
       " 'localidade': 'Cabedelo',\n",
       " 'uf': 'PB',\n",
       " 'ibge': '2503209',\n",
       " 'gia': '',\n",
       " 'ddd': '83',\n",
       " 'siafi': '1965'}"
      ]
     },
     "execution_count": 99,
     "metadata": {},
     "output_type": "execute_result"
    }
   ],
   "source": [
    "req.json()"
   ]
  },
  {
   "cell_type": "code",
   "execution_count": 91,
   "metadata": {},
   "outputs": [],
   "source": [
    "dados = req.json()"
   ]
  },
  {
   "cell_type": "code",
   "execution_count": 92,
   "metadata": {},
   "outputs": [
    {
     "data": {
      "text/plain": [
       "'Avenida Governador Flávio Ribeiro Coutinho'"
      ]
     },
     "execution_count": 92,
     "metadata": {},
     "output_type": "execute_result"
    }
   ],
   "source": [
    "dados['logradouro']"
   ]
  },
  {
   "cell_type": "code",
   "execution_count": 108,
   "metadata": {},
   "outputs": [],
   "source": [
    "def retornaCep(cep):\n",
    "    req = requests.get(f'https://viacep.com.br/ws/{cep}/json')\n",
    "    return req.json()\n",
    "\n",
    "if __name__ == '__main__':\n",
    "    retornaCep(58102835)"
   ]
  },
  {
   "cell_type": "code",
   "execution_count": 109,
   "metadata": {},
   "outputs": [
    {
     "data": {
      "text/plain": [
       "{'cep': '58102-835',\n",
       " 'logradouro': 'Avenida Governador Flávio Ribeiro Coutinho',\n",
       " 'complemento': '',\n",
       " 'bairro': 'Parque Verde',\n",
       " 'localidade': 'Cabedelo',\n",
       " 'uf': 'PB',\n",
       " 'ibge': '2503209',\n",
       " 'gia': '',\n",
       " 'ddd': '83',\n",
       " 'siafi': '1965'}"
      ]
     },
     "execution_count": 109,
     "metadata": {},
     "output_type": "execute_result"
    }
   ],
   "source": [
    "retornaCep(58102835)"
   ]
  },
  {
   "cell_type": "code",
   "execution_count": 125,
   "metadata": {},
   "outputs": [],
   "source": [
    "def retornaDadosPokemon(name):\n",
    "    req = requests.get(f'https://pokeapi.co/api/v2/pokemon/{name}')\n",
    "    return (req.json()['sprites']['front_shiny'])"
   ]
  },
  {
   "cell_type": "code",
   "execution_count": 126,
   "metadata": {
    "scrolled": false
   },
   "outputs": [
    {
     "data": {
      "text/plain": [
       "'https://raw.githubusercontent.com/PokeAPI/sprites/master/sprites/pokemon/shiny/25.png'"
      ]
     },
     "execution_count": 126,
     "metadata": {},
     "output_type": "execute_result"
    }
   ],
   "source": [
    "retornaDadosPokemon('pikachu')"
   ]
  },
  {
   "cell_type": "code",
   "execution_count": 150,
   "metadata": {
    "scrolled": false
   },
   "outputs": [
    {
     "data": {
      "text/plain": [
       "'<html>\\n<html xmlns=\"http://www.w3.org/1999/xhtml\">\\n<head>\\n    <title>Pudim</title>\\n    <link rel=\"stylesheet\" href=\"estilo.css\">\\n</head>\\n<body>\\n<div>\\n    <div class=\"container\">\\n        <div class=\"image\">\\n            <img src=\"pudim.jpg\" alt=\"\">\\n        </div>\\n        <div class=\"email\">\\n            <a href=\"mailto:pudim@pudim.com.br\">pudim@pudim.com.br</a>\\n        </div>\\n    </div>\\n</div>\\n<script>\\n    (function(i,s,o,g,r,a,m){i[\\'GoogleAnalyticsObject\\']=r;i[r]=i[r]||function(){\\n                (i[r].q=i[r].q||[]).push(arguments)},i[r].l=1*new Date();a=s.createElement(o),\\n            m=s.getElementsByTagName(o)[0];a.async=1;a.src=g;m.parentNode.insertBefore(a,m)\\n    })(window,document,\\'script\\',\\'//www.google-analytics.com/analytics.js\\',\\'ga\\');\\n\\n    ga(\\'create\\', \\'UA-28861757-1\\', \\'auto\\');\\n    ga(\\'send\\', \\'pageview\\');\\n\\n</script>\\n</body>\\n</html>\\n'"
      ]
     },
     "execution_count": 150,
     "metadata": {},
     "output_type": "execute_result"
    }
   ],
   "source": [
    "def retornaResponse(url):\n",
    "    response = requests.get(url)\n",
    "#     content = response.content\n",
    "#     site = BeautifulSoup(content, 'html.parser')\n",
    "    return response.text\n",
    "\n",
    "retornaResponse('http://www.pudim.com.br/')"
   ]
  },
  {
   "cell_type": "code",
   "execution_count": 151,
   "metadata": {},
   "outputs": [],
   "source": [
    "# Virtual Env"
   ]
  },
  {
   "cell_type": "code",
   "execution_count": 160,
   "metadata": {},
   "outputs": [],
   "source": [
    "#  !pip install --upgrade pip"
   ]
  },
  {
   "cell_type": "code",
   "execution_count": null,
   "metadata": {},
   "outputs": [],
   "source": []
  }
 ],
 "metadata": {
  "kernelspec": {
   "display_name": "Python 3",
   "language": "python",
   "name": "python3"
  },
  "language_info": {
   "codemirror_mode": {
    "name": "ipython",
    "version": 3
   },
   "file_extension": ".py",
   "mimetype": "text/x-python",
   "name": "python",
   "nbconvert_exporter": "python",
   "pygments_lexer": "ipython3",
   "version": "3.8.5"
  }
 },
 "nbformat": 4,
 "nbformat_minor": 4
}
