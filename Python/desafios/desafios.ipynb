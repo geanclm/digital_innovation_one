{
 "cells": [
  {
   "cell_type": "markdown",
   "metadata": {},
   "source": [
    "<center style=\"font-size:18pt; background-color:#c9d976\">\n",
    "    <br/>\n",
    "        <b style=\"color: #033409\">\n",
    "            Cognizant Cloud Data Engineer #2\n",
    "        </b>\n",
    "    <br/>&nbsp;\n",
    "</center>"
   ]
  },
  {
   "cell_type": "code",
   "execution_count": 1,
   "metadata": {},
   "outputs": [],
   "source": [
    "# resolução dos desafios\n",
    "# by geanclm in Maio/2022"
   ]
  },
  {
   "cell_type": "markdown",
   "metadata": {},
   "source": [
    "### Desafios Iniciais em Python - Cognizant Data Cloud Engineer #2"
   ]
  },
  {
   "cell_type": "code",
   "execution_count": 3,
   "metadata": {},
   "outputs": [],
   "source": [
    "# 1 / 3 - Média 1\n",
    "a = float(input())\n",
    "b = float(input())\n",
    "media = (a * 3.5 +  b * 7.5) / 11\n",
    "print(f'MEDIA = { media: .5f}')"
   ]
  },
  {
   "cell_type": "code",
   "execution_count": null,
   "metadata": {},
   "outputs": [],
   "source": [
    "# 2 / 3 - Triângulo\n",
    "lados = [float(x) for x in input().split()]\n",
    "a = lados[0];\n",
    "b = lados[1];\n",
    "c = lados[2];\n",
    "if a + b > c and a + c > b and b + c > a:\n",
    "    print(f\"Perimetro = {(a+b+c):.1f}\")\n",
    "else:\n",
    "    print(f\"Area = {(((a+b)*c)/2):.1f}\")"
   ]
  },
  {
   "cell_type": "code",
   "execution_count": null,
   "metadata": {},
   "outputs": [],
   "source": [
    "# 3 / 3 - Conversão de Tempo\n",
    "segundos = int(input())\n",
    "minutos = (segundos//60)\n",
    "segundos = int(segundos - (minutos * 60))\n",
    "horas = (minutos//60)\n",
    "minutos = int(minutos - (horas * 60))\n",
    "print(\"{}:{}:{}\".format(horas, minutos, segundos))"
   ]
  },
  {
   "cell_type": "markdown",
   "metadata": {},
   "source": [
    "### Desafios Iniciais em Python - Cognizant Data Cloud Engineer #2"
   ]
  },
  {
   "cell_type": "code",
   "execution_count": null,
   "metadata": {},
   "outputs": [],
   "source": [
    "# 1 / 3 - Quantidade de Números Positivos\n",
    "counter = 0\n",
    "for i in range(6):\n",
    "    number = float(input())\n",
    "    if number > 0:\n",
    "        counter += 1\n",
    "print(f'{counter} valores positivos')"
   ]
  },
  {
   "cell_type": "code",
   "execution_count": null,
   "metadata": {},
   "outputs": [],
   "source": [
    "# 2 / 3 - Crescente e Decrescente\n",
    "X, Y = map(int, input().split())\n",
    "while (X != Y):\n",
    "    floor = min(X, Y)\n",
    "    top = max(X, Y)\n",
    "    if  (X < Y):\n",
    "        print(\"Crescente\")\n",
    "    elif (X > Y):\n",
    "        print(\"Decrescente\")\n",
    "    X, Y = map(int, input().split())"
   ]
  },
  {
   "cell_type": "code",
   "execution_count": null,
   "metadata": {},
   "outputs": [],
   "source": [
    "# 3 / 3 - Resto da Divisão\n",
    "X = int(input())\n",
    "Y = int(input())\n",
    "if (Y > X):\n",
    "    for i in range(X + 1, Y):\n",
    "        if (i%5==2) or (i%5==3):\n",
    "            print(i)\n",
    "elif (X > Y):\n",
    "    for i in range(Y + 1,X):\n",
    "        if (i%5==2) or (i%5==3):\n",
    "            print(i)"
   ]
  },
  {
   "cell_type": "markdown",
   "metadata": {},
   "source": [
    "### Desafios Finais Python - Cognizant Data Cloud Engineer #2"
   ]
  },
  {
   "cell_type": "code",
   "execution_count": 18,
   "metadata": {},
   "outputs": [
    {
     "name": "stdout",
     "output_type": "stream",
     "text": [
      "3\n",
      "8\n",
      "8 não é primo!\n",
      "51\n",
      "51 não é primo!\n",
      "7\n",
      "7 é primo!\n"
     ]
    }
   ],
   "source": [
    "# 1 / 3 - Número Primo\n",
    "n = int(input())\n",
    "for i in range(n):\n",
    "    num = int(input())\n",
    "    sum = 0\n",
    "    for j in range(1, (num+1)):\n",
    "        if num%j == 0:\n",
    "            sum += 1       \n",
    "    if sum != (2):\n",
    "        print(f'{j} não é primo!')\n",
    "    else:\n",
    "        print(f'{j} é primo!')"
   ]
  },
  {
   "cell_type": "code",
   "execution_count": 21,
   "metadata": {},
   "outputs": [
    {
     "name": "stdout",
     "output_type": "stream",
     "text": [
      "1\n",
      "N[0] = 1\n",
      "N[1] = 2\n",
      "N[2] = 4\n",
      "N[3] = 8\n",
      "N[4] = 16\n",
      "N[5] = 32\n",
      "N[6] = 64\n",
      "N[7] = 128\n",
      "N[8] = 256\n",
      "N[9] = 512\n"
     ]
    }
   ],
   "source": [
    "# 2 / 3 - Preenchimento de Vetor I\n",
    "x = int(input())\n",
    "n= list()\n",
    "#TODO: Complete os espaços em branco com uma solução possível para o problema.\n",
    "for i in range (10):\n",
    "    n.append(x)\n",
    "    x *= 2    \n",
    "#     print(\"    = \".format(i), n[i])\n",
    "    print (f'N[{i}] = {n[i]}')"
   ]
  },
  {
   "cell_type": "code",
   "execution_count": 3,
   "metadata": {},
   "outputs": [
    {
     "name": "stdout",
     "output_type": "stream",
     "text": [
      "1\n",
      "123456 56\n",
      "encaixa\n"
     ]
    }
   ],
   "source": [
    "#TODO: Complete os espaços em branco com uma solução possível para o problema.\n",
    "# by geanclm\n",
    "# 3 / 3 - Encaixa ou Não?\n",
    "n = int(input())\n",
    "for i in range(n):\n",
    "    x,y = input().split()\n",
    "    teste = 0\n",
    "    cont = 0\n",
    "    if len(x) < len(y):\n",
    "        print(\"nao encaixa\")\n",
    "    else:\n",
    "#         for j in range(int(len((max(x,y))))):\n",
    "        for j in range(len(y)):\n",
    "            teste -= 1\n",
    "            if x[teste] == y[teste]:\n",
    "                cont += 1\n",
    "#         if x[-cont:] == y[-cont:]:\n",
    "        if cont == len(y): \n",
    "            print(\"encaixa\")\n",
    "        else:\n",
    "            print(\"nao encaixa\")"
   ]
  }
 ],
 "metadata": {
  "kernelspec": {
   "display_name": "Python 3",
   "language": "python",
   "name": "python3"
  },
  "language_info": {
   "codemirror_mode": {
    "name": "ipython",
    "version": 3
   },
   "file_extension": ".py",
   "mimetype": "text/x-python",
   "name": "python",
   "nbconvert_exporter": "python",
   "pygments_lexer": "ipython3",
   "version": "3.8.5"
  }
 },
 "nbformat": 4,
 "nbformat_minor": 4
}
